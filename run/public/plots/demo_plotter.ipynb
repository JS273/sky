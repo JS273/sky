{
 "cells": [
  {
   "attachments": {},
   "cell_type": "markdown",
   "metadata": {},
   "source": [
    "# Plotter demo"
   ]
  },
  {
   "attachments": {},
   "cell_type": "markdown",
   "metadata": {},
   "source": [
    "### Simple plot"
   ]
  },
  {
   "cell_type": "code",
   "execution_count": null,
   "metadata": {},
   "outputs": [],
   "source": [
    "from sky.plots.plotlib import *\n",
    "from sky.filemanager import *\n",
    "\n",
    "# Plot\n",
    "x = np.linspace(0.0, 2*np.pi, 100)\n",
    "y = np.sin(x)\n",
    "plt1 = LinePlot(x,y)\n",
    "\n",
    "# Create plotter\n",
    "plotter = Plotter()\n",
    "_ = plotter.plot(plt1)\n"
   ]
  },
  {
   "attachments": {},
   "cell_type": "markdown",
   "metadata": {},
   "source": [
    "### Save plot to result folder\n",
    "\n",
    "Check out the result folder and run the file ...Example_plot.py"
   ]
  },
  {
   "cell_type": "code",
   "execution_count": null,
   "metadata": {},
   "outputs": [],
   "source": [
    "from sky.plots.plotlib import *\n",
    "from sky.filemanager import *\n",
    "\n",
    "# Setup\n",
    "tag = \"Example_plot\"\n",
    "result_folder = create_result_folder(tag = tag, max_res_folders = 7, max_daily_folders= 7)\n",
    "\n",
    "# Create plot object\n",
    "# Plot\n",
    "x = np.linspace(0.0, 2*np.pi, 100)\n",
    "y = np.sin(x)\n",
    "plt1 = LinePlot(x,y)\n",
    "\n",
    "# Create plotter\n",
    "plotter = Plotter(save_path = result_folder, open_saved_plot=False)\n",
    "_ = plotter.plot(plt1, filename = f'{tag}')\n"
   ]
  },
  {
   "attachments": {},
   "cell_type": "markdown",
   "metadata": {},
   "source": [
    "### Plot a 1 x 3 subplot"
   ]
  },
  {
   "cell_type": "code",
   "execution_count": null,
   "metadata": {},
   "outputs": [],
   "source": [
    "# Create 2 addiational plot objects\n",
    "\n",
    "T2 = np.pi\n",
    "x = np.linspace(0.0, 2*np.pi, 100)\n",
    "y2 = 5.0 * np.sin(2 * np.pi * 1/T2 * x)\n",
    "\n",
    "T3 = 3*np.pi\n",
    "x = np.linspace(0.0, 2*np.pi, 100)\n",
    "y3 = 5.0 * np.sin(2 * np.pi * 1/T3 * x)\n",
    "\n",
    "plt2 = LinePlot(x,y2, x_label = \"x\", y_label = \"Model\")\n",
    "plt3 = LinePlot(x,y3, x_label = \"x\", y_label = \"Model\")\n",
    "\n",
    "_ = plotter.plot(plt1,plt2,plt3, filename = f'{tag}_plot1')"
   ]
  },
  {
   "attachments": {},
   "cell_type": "markdown",
   "metadata": {},
   "source": [
    "### Plot all plots in one plot"
   ]
  },
  {
   "cell_type": "code",
   "execution_count": null,
   "metadata": {},
   "outputs": [],
   "source": [
    "_ = plotter.plot([plt1,plt2,plt3], filename = f'{tag}_plot1')"
   ]
  },
  {
   "attachments": {},
   "cell_type": "markdown",
   "metadata": {},
   "source": [
    "### Plot in different plot style"
   ]
  },
  {
   "cell_type": "code",
   "execution_count": null,
   "metadata": {},
   "outputs": [],
   "source": [
    "paper_plotter = Plotter(save_path = result_folder, open_saved_plot=False, stylesheet= \"src\\sky\\plots\\mpl_stylesheets\\paper.mplstyle\")\n",
    "\n",
    "_ = paper_plotter.plot([plt1,plt2,plt3], filename = f'{tag}_plot1', fig_size = np.array([10, 7]))"
   ]
  },
  {
   "attachments": {},
   "cell_type": "markdown",
   "metadata": {},
   "source": [
    "### Plot multi columne subplots"
   ]
  },
  {
   "cell_type": "code",
   "execution_count": null,
   "metadata": {},
   "outputs": [],
   "source": [
    "fig, ax = get_multcolumn_subplot(n_regular_plots = 2, n_multi_colm = 1, regular_plot_grid= [1,2])\n",
    "\n",
    "_ = paper_plotter.plot(plt1,plt2,plt3, filename = f'{tag}_plot1', custom_fig= [fig, ax])\n"
   ]
  },
  {
   "cell_type": "code",
   "execution_count": null,
   "metadata": {},
   "outputs": [],
   "source": []
  }
 ],
 "metadata": {
  "kernelspec": {
   "display_name": "myPython39",
   "language": "python",
   "name": "python3"
  },
  "language_info": {
   "codemirror_mode": {
    "name": "ipython",
    "version": 3
   },
   "file_extension": ".py",
   "mimetype": "text/x-python",
   "name": "python",
   "nbconvert_exporter": "python",
   "pygments_lexer": "ipython3",
   "version": "3.9.0"
  },
  "orig_nbformat": 4
 },
 "nbformat": 4,
 "nbformat_minor": 2
}
